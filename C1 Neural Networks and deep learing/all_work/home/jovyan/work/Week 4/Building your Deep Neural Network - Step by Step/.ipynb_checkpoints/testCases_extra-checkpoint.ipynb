{
 "cells": [
  {
   "cell_type": "code",
   "execution_count": null,
   "metadata": {
    "collapsed": true
   },
   "outputs": [],
   "source": [
    "import numpy as np\n",
    "\n",
    "def L_model_backward_test_case_2hidden():\n",
    "    np.random.seed(7)\n",
    "    AL = np.random.rand(1, 5)\n",
    "    Y = np.array([[0., 1., 0., 1., 1.]])\n",
    "\n",
    "    A0 = np.random.randn(4,5)\n",
    "    W1 = np.random.randn(7,4)\n",
    "    b1 = np.random.randn(7,1)\n",
    "    Z1 = np.random.randn(7,5)\n",
    "    linear_cache_activation_1 = ((A0, W1, b1), Z1)\n",
    "\n",
    "    A1 = np.random.randn(7,5)\n",
    "    W2 = np.random.randn(3,7)\n",
    "    b2 = np.random.randn(3,1)\n",
    "    Z2 = np.random.randn(3,5)\n",
    "    linear_cache_activation_2 = ((A1, W2, b2), Z2)\n",
    "\n",
    "    A2 = np.random.randn(3,5)\n",
    "    W3 = np.random.randn(1,3)\n",
    "    b3 = np.random.randn(1,1)\n",
    "    Z3 = np.random.randn(1,5)\n",
    "    linear_cache_activation_3 = ((A2, W3, b3), Z3)\n",
    "    \n",
    "    caches = (linear_cache_activation_1, linear_cache_activation_2, linear_cache_activation_3)\n",
    "\n",
    "    return AL, Y, caches\n",
    "\n",
    "def print_grads_2hidden(grads):\n",
    "    print (\"dW1 = \"+ str(grads[\"dW1\"]))\n",
    "    print (\"db1 = \"+ str(grads[\"db1\"]))\n",
    "    print (\"dA1 = \"+ str(grads[\"dA1\"]))\n",
    "    print (\"dW2 = \"+ str(grads[\"dW2\"]))\n",
    "    print (\"db2 = \"+ str(grads[\"db2\"]))\n",
    "    print (\"dA2 = \"+ str(grads[\"dA2\"]))\n",
    "    print (\"dW3 = \"+ str(grads[\"dW3\"]))\n",
    "    print (\"db3 = \"+ str(grads[\"db3\"]))\n",
    "    print (\"dA0 = \"+ str(grads[\"dA0\"]))"
   ]
  }
 ],
 "metadata": {
  "kernelspec": {
   "display_name": "Python 3",
   "language": "python",
   "name": "python3"
  },
  "language_info": {
   "codemirror_mode": {
    "name": "ipython",
    "version": 3
   },
   "file_extension": ".py",
   "mimetype": "text/x-python",
   "name": "python",
   "nbconvert_exporter": "python",
   "pygments_lexer": "ipython3",
   "version": "3.6.0"
  }
 },
 "nbformat": 4,
 "nbformat_minor": 2
}
